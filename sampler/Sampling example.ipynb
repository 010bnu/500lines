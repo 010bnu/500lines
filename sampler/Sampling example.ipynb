{
 "metadata": {
  "name": "",
  "signature": "sha256:58acb98ccef804abde4e50e0d76f1a009565bcbd191e582a72ddaa1e098d6c10"
 },
 "nbformat": 3,
 "nbformat_minor": 0,
 "worksheets": [
  {
   "cells": [
    {
     "cell_type": "code",
     "collapsed": false,
     "input": [
      "%matplotlib inline\n",
      "%load_ext autoreload\n",
      "%autoreload 2"
     ],
     "language": "python",
     "metadata": {},
     "outputs": [],
     "prompt_number": 1
    },
    {
     "cell_type": "code",
     "collapsed": false,
     "input": [
      "from sampler import RejectionSampler\n",
      "import matplotlib.pyplot as plt\n",
      "import numpy as np"
     ],
     "language": "python",
     "metadata": {},
     "outputs": [],
     "prompt_number": 2
    },
    {
     "cell_type": "code",
     "collapsed": false,
     "input": [
      "def propose_func():\n",
      "    \"\"\"Propose a value uniformly between -4 and 4.\"\"\"\n",
      "    return np.random.uniform(-4, 4)"
     ],
     "language": "python",
     "metadata": {},
     "outputs": [],
     "prompt_number": 3
    },
    {
     "cell_type": "code",
     "collapsed": false,
     "input": [
      "def propose_logpdf(X):\n",
      "    \"\"\"Return the log probability density (log-PDF) for X under the\n",
      "    proposal distribution, which is just the uniform probability\n",
      "    multiplied by a constant (so it is always greater than the target\n",
      "    distribution).\n",
      "\n",
      "    \"\"\"\n",
      "    if X < -4 or X > 4:\n",
      "        return -np.inf\n",
      "    return np.log(0.6)"
     ],
     "language": "python",
     "metadata": {},
     "outputs": [],
     "prompt_number": 4
    },
    {
     "cell_type": "code",
     "collapsed": false,
     "input": [
      "def _gaussian_logpdf(X, mean, var):\n",
      "    \"\"\"The log-PDF for X under a Gaussian distribution with mean `mean`\n",
      "    and variance `var`.\n",
      "\n",
      "    \"\"\"\n",
      "    logpdf = -0.5 * np.log(2 * np.pi * var) - ((X - mean) ** 2 / (2 * var))\n",
      "    return logpdf"
     ],
     "language": "python",
     "metadata": {},
     "outputs": [],
     "prompt_number": 5
    },
    {
     "cell_type": "code",
     "collapsed": false,
     "input": [
      "def target_logpdf(X):\n",
      "    \"\"\"The log-PDF for X under a mixture of three Gaussian distributions.\n",
      "\n",
      "    \"\"\"\n",
      "    logpdf1 = _gaussian_logpdf(X, -1.5, 0.2)\n",
      "    logpdf2 = _gaussian_logpdf(X, 2.0, 0.1)\n",
      "    logpdf3 = _gaussian_logpdf(X, 0.2, 0.3)\n",
      "    logpdfs = np.array([logpdf1, logpdf2, logpdf3])\n",
      "    logpdf = np.log(np.exp(logpdfs).sum()) - np.log(3)\n",
      "    return logpdf"
     ],
     "language": "python",
     "metadata": {},
     "outputs": [],
     "prompt_number": 6
    },
    {
     "cell_type": "code",
     "collapsed": false,
     "input": [
      "# initialize the sampler, and draw some samples\n",
      "sampler = RejectionSampler(propose_func, propose_logpdf, target_logpdf)\n",
      "samples = sampler.sample(10000, seed=84)"
     ],
     "language": "python",
     "metadata": {},
     "outputs": [],
     "prompt_number": 7
    },
    {
     "cell_type": "code",
     "collapsed": false,
     "input": [
      "# plot the samples we drew\n",
      "fig, ax = plt.subplots()\n",
      "sampler.plot(ax, -4, 4, 1.0)"
     ],
     "language": "python",
     "metadata": {},
     "outputs": [
      {
       "metadata": {},
       "output_type": "display_data",
       "png": "[encoded data removed]",
       "text": [
        "<matplotlib.figure.Figure at 0x1116e2bd0>"
       ]
      }
     ],
     "prompt_number": 8
    }
   ],
   "metadata": {}
  }
 ]
}