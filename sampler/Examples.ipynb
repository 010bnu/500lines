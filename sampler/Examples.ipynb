{
 "metadata": {
  "name": "",
  "signature": "sha256:de2cba94eff7d1142e24a7fbefb625f4e75d8936867949c217de60314bc5f95b"
 },
 "nbformat": 3,
 "nbformat_minor": 0,
 "worksheets": [
  {
   "cells": [
    {
     "cell_type": "code",
     "collapsed": false,
     "input": [
      "%matplotlib inline"
     ],
     "language": "python",
     "metadata": {},
     "outputs": [],
     "prompt_number": 1
    },
    {
     "cell_type": "heading",
     "level": 1,
     "metadata": {},
     "source": [
      "MagicItemDistribution"
     ]
    },
    {
     "cell_type": "code",
     "collapsed": false,
     "input": [
      "import numpy as np\n",
      "from rpg import MagicItemDistribution\n",
      "bonus_probs = np.array([0.0, 0.55, 0.25, 0.12, 0.06, 0.02])\n",
      "stats_probs = np.ones(6) / 6.0\n",
      "rso = np.random.RandomState(234892)\n",
      "item_dist = MagicItemDistribution(bonus_probs, stats_probs, rso=rso)"
     ],
     "language": "python",
     "metadata": {},
     "outputs": [
      {
       "output_type": "stream",
       "stream": "stderr",
       "text": [
        "multinomial.py:29: RuntimeWarning: divide by zero encountered in log\n",
        "  self.logp = np.log(self.p)\n"
       ]
      }
     ],
     "prompt_number": 2
    },
    {
     "cell_type": "code",
     "collapsed": false,
     "input": [
      "item_dist.sample()"
     ],
     "language": "python",
     "metadata": {},
     "outputs": [
      {
       "metadata": {},
       "output_type": "pyout",
       "prompt_number": 3,
       "text": [
        "{'charisma': 1,\n",
        " 'constitution': 0,\n",
        " 'dexterity': 0,\n",
        " 'intelligence': 0,\n",
        " 'strength': 0,\n",
        " 'wisdom': 0}"
       ]
      }
     ],
     "prompt_number": 3
    },
    {
     "cell_type": "code",
     "collapsed": false,
     "input": [
      "item_dist.sample()"
     ],
     "language": "python",
     "metadata": {},
     "outputs": [
      {
       "metadata": {},
       "output_type": "pyout",
       "prompt_number": 4,
       "text": [
        "{'charisma': 0,\n",
        " 'constitution': 1,\n",
        " 'dexterity': 0,\n",
        " 'intelligence': 0,\n",
        " 'strength': 0,\n",
        " 'wisdom': 2}"
       ]
      }
     ],
     "prompt_number": 4
    },
    {
     "cell_type": "code",
     "collapsed": false,
     "input": [
      "item_dist.sample()"
     ],
     "language": "python",
     "metadata": {},
     "outputs": [
      {
       "metadata": {},
       "output_type": "pyout",
       "prompt_number": 5,
       "text": [
        "{'charisma': 0,\n",
        " 'constitution': 1,\n",
        " 'dexterity': 1,\n",
        " 'intelligence': 0,\n",
        " 'strength': 0,\n",
        " 'wisdom': 0}"
       ]
      }
     ],
     "prompt_number": 5
    },
    {
     "cell_type": "code",
     "collapsed": false,
     "input": [
      "item = item_dist.sample()\n",
      "item"
     ],
     "language": "python",
     "metadata": {},
     "outputs": [
      {
       "metadata": {},
       "output_type": "pyout",
       "prompt_number": 6,
       "text": [
        "{'charisma': 0,\n",
        " 'constitution': 0,\n",
        " 'dexterity': 0,\n",
        " 'intelligence': 0,\n",
        " 'strength': 0,\n",
        " 'wisdom': 2}"
       ]
      }
     ],
     "prompt_number": 6
    },
    {
     "cell_type": "code",
     "collapsed": false,
     "input": [
      "item_dist.logpmf(item)"
     ],
     "language": "python",
     "metadata": {},
     "outputs": [
      {
       "output_type": "stream",
       "stream": "stderr",
       "text": [
        "multinomial.py:83: RuntimeWarning: invalid value encountered in multiply\n",
        "  all_weights = self.logp * x\n"
       ]
      },
      {
       "metadata": {},
       "output_type": "pyout",
       "prompt_number": 7,
       "text": [
        "-4.9698132995760007"
       ]
      }
     ],
     "prompt_number": 7
    },
    {
     "cell_type": "code",
     "collapsed": false,
     "input": [
      "item_dist.pmf(item)"
     ],
     "language": "python",
     "metadata": {},
     "outputs": [
      {
       "metadata": {},
       "output_type": "pyout",
       "prompt_number": 8,
       "text": [
        "0.0069444444444444441"
       ]
      }
     ],
     "prompt_number": 8
    },
    {
     "cell_type": "heading",
     "level": 1,
     "metadata": {},
     "source": [
      "DamageDistribution"
     ]
    },
    {
     "cell_type": "code",
     "collapsed": false,
     "input": [
      "from rpg import DamageDistribution\n",
      "damage_dist = DamageDistribution(2, item_dist, num_hits=3, rso=rso)"
     ],
     "language": "python",
     "metadata": {},
     "outputs": [],
     "prompt_number": 9
    },
    {
     "cell_type": "code",
     "collapsed": false,
     "input": [
      "samples = np.array([damage_dist.sample() for i in xrange(100000)])"
     ],
     "language": "python",
     "metadata": {},
     "outputs": [],
     "prompt_number": 10
    },
    {
     "cell_type": "code",
     "collapsed": false,
     "input": [
      "samples.min()"
     ],
     "language": "python",
     "metadata": {},
     "outputs": [
      {
       "metadata": {},
       "output_type": "pyout",
       "prompt_number": 11,
       "text": [
        "3"
       ]
      }
     ],
     "prompt_number": 11
    },
    {
     "cell_type": "code",
     "collapsed": false,
     "input": [
      "samples.max()"
     ],
     "language": "python",
     "metadata": {},
     "outputs": [
      {
       "metadata": {},
       "output_type": "pyout",
       "prompt_number": 12,
       "text": [
        "154"
       ]
      }
     ],
     "prompt_number": 12
    },
    {
     "cell_type": "code",
     "collapsed": false,
     "input": [
      "np.percentile(samples, 50)"
     ],
     "language": "python",
     "metadata": {},
     "outputs": [
      {
       "metadata": {},
       "output_type": "pyout",
       "prompt_number": 13,
       "text": [
        "27.0"
       ]
      }
     ],
     "prompt_number": 13
    },
    {
     "cell_type": "code",
     "collapsed": false,
     "input": [
      "plt.hist(samples, bins=samples.max() + 1, range=(0, samples.max()), histtype='step')\n",
      "plt.xlabel(\"Damage\")\n",
      "plt.ylabel(\"Number of samples\")\n",
      "plt.title(\"Distribution over attack damage for 2 weapons\")\n",
      "plt.tight_layout()\n",
      "plt.savefig(\"damage_distribution.png\")"
     ],
     "language": "python",
     "metadata": {},
     "outputs": [
      {
       "metadata": {},
       "output_type": "display_data",
       "png": "[encoded data removed]",
       "text": [
        "<matplotlib.figure.Figure at 0x10f8eb650>"
       ]
      }
     ],
     "prompt_number": 14
    }
   ],
   "metadata": {}
  }
 ]
}